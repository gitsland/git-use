{
 "cells": [
  {
   "cell_type": "code",
   "execution_count": 1,
   "id": "dba55485-d8ae-40c7-82f5-9d875f5bbc95",
   "metadata": {},
   "outputs": [
    {
     "name": "stdout",
     "output_type": "stream",
     "text": [
      "   staff_id  month  total_payment\n",
      "0         2      4       14409.10\n",
      "1         1      4       14150.36\n",
      "2         1      3       11990.27\n",
      "3         2      3       11896.29\n",
      "4         2      2        4211.93\n",
      "5         1      2        4139.91\n",
      "6         2      5         296.01\n",
      "7         1      5         218.17\n"
     ]
    }
   ],
   "source": [
    "import pandas as pd\n",
    "\n",
    "df = pd.read_csv('staff performance.csv')\n",
    "\n",
    "print(df.to_string()) "
   ]
  },
  {
   "cell_type": "code",
   "execution_count": 2,
   "id": "94d817d6-bf92-4124-908d-b46936d52e37",
   "metadata": {},
   "outputs": [],
   "source": [
    "df['new_column'] = df['month'].apply(lambda x: x*10)"
   ]
  },
  {
   "cell_type": "code",
   "execution_count": 3,
   "id": "f864157a-b18a-497d-9fd4-122079cd70a7",
   "metadata": {},
   "outputs": [
    {
     "data": {
      "text/plain": [
       "0    40\n",
       "1    40\n",
       "2    30\n",
       "3    30\n",
       "4    20\n",
       "5    20\n",
       "6    50\n",
       "7    50\n",
       "Name: new_column, dtype: int64"
      ]
     },
     "execution_count": 3,
     "metadata": {},
     "output_type": "execute_result"
    }
   ],
   "source": [
    "df['new_column']"
   ]
  },
  {
   "cell_type": "code",
   "execution_count": 4,
   "id": "a5815456-5c88-4b06-93a7-6f3d90fffa27",
   "metadata": {},
   "outputs": [
    {
     "name": "stdout",
     "output_type": "stream",
     "text": [
      "   staff_id  month  total_payment  new_column\n",
      "0         2      4       14409.10          40\n",
      "1         1      4       14150.36          40\n",
      "2         1      3       11990.27          30\n",
      "3         2      3       11896.29          30\n",
      "4         2      2        4211.93          20\n",
      "5         1      2        4139.91          20\n",
      "6         2      5         296.01          50\n",
      "7         1      5         218.17          50\n"
     ]
    }
   ],
   "source": [
    "print(df.to_string()) "
   ]
  },
  {
   "cell_type": "code",
   "execution_count": 5,
   "id": "05e7d46a-1f23-4a42-bb3c-772cf9ff691a",
   "metadata": {},
   "outputs": [],
   "source": [
    "df['2nd_new_column'] = df['month']*10"
   ]
  },
  {
   "cell_type": "code",
   "execution_count": 6,
   "id": "02295864-dfb2-4fd9-9014-d80a41313462",
   "metadata": {},
   "outputs": [
    {
     "name": "stdout",
     "output_type": "stream",
     "text": [
      "   staff_id  month  total_payment  new_column  2nd_new_column\n",
      "0         2      4       14409.10          40              40\n",
      "1         1      4       14150.36          40              40\n",
      "2         1      3       11990.27          30              30\n",
      "3         2      3       11896.29          30              30\n",
      "4         2      2        4211.93          20              20\n",
      "5         1      2        4139.91          20              20\n",
      "6         2      5         296.01          50              50\n",
      "7         1      5         218.17          50              50\n"
     ]
    }
   ],
   "source": [
    "print(df.to_string()) "
   ]
  },
  {
   "cell_type": "code",
   "execution_count": 7,
   "id": "0bfedd3b-a229-4352-954e-525089a3775b",
   "metadata": {},
   "outputs": [
    {
     "ename": "NameError",
     "evalue": "name 'pd' is not defined",
     "output_type": "error",
     "traceback": [
      "\u001b[1;31m---------------------------------------------------------------------------\u001b[0m",
      "\u001b[1;31mNameError\u001b[0m                                 Traceback (most recent call last)",
      "Cell \u001b[1;32mIn[7], line 2\u001b[0m\n\u001b[0;32m      1\u001b[0m data \u001b[38;5;241m=\u001b[39m {\u001b[38;5;124m'\u001b[39m\u001b[38;5;124mprice\u001b[39m\u001b[38;5;124m'\u001b[39m: [\u001b[38;5;241m100\u001b[39m, \u001b[38;5;241m200\u001b[39m, \u001b[38;5;241m150\u001b[39m, \u001b[38;5;241m300\u001b[39m]}\n\u001b[1;32m----> 2\u001b[0m new_df \u001b[38;5;241m=\u001b[39m \u001b[43mpd\u001b[49m\u001b[38;5;241m.\u001b[39mDataFrame(data)\n\u001b[0;32m      3\u001b[0m \u001b[38;5;66;03m# Apply a lambda function to calculate discounted price\u001b[39;00m\n\u001b[0;32m      4\u001b[0m new_df[\u001b[38;5;124m'\u001b[39m\u001b[38;5;124mnew_price\u001b[39m\u001b[38;5;124m'\u001b[39m] \u001b[38;5;241m=\u001b[39m new_df[\u001b[38;5;124m'\u001b[39m\u001b[38;5;124mprice\u001b[39m\u001b[38;5;124m'\u001b[39m]\u001b[38;5;241m.\u001b[39mapply(\u001b[38;5;28;01mlambda\u001b[39;00m x: x \u001b[38;5;241m*\u001b[39m \u001b[38;5;241m0.9\u001b[39m)\n",
      "\u001b[1;31mNameError\u001b[0m: name 'pd' is not defined"
     ]
    }
   ],
   "source": [
    "data = {'price': [100, 200, 150, 300]}\n",
    "new_df = pd.DataFrame(data)\n",
    "# Apply a lambda function to calculate discounted price\n",
    "new_df['new_price'] = new_df['price'].apply(lambda x: x * 0.9)\n",
    "\n",
    "print(new_df.to_string())"
   ]
  },
  {
   "cell_type": "code",
   "execution_count": 6,
   "id": "86e7e4fd-756b-49de-a1e3-2d902364c712",
   "metadata": {},
   "outputs": [
    {
     "ename": "NameError",
     "evalue": "name 'pd' is not defined",
     "output_type": "error",
     "traceback": [
      "\u001b[1;31m---------------------------------------------------------------------------\u001b[0m",
      "\u001b[1;31mNameError\u001b[0m                                 Traceback (most recent call last)",
      "Cell \u001b[1;32mIn[6], line 3\u001b[0m\n\u001b[0;32m      1\u001b[0m data \u001b[38;5;241m=\u001b[39m {\u001b[38;5;124m'\u001b[39m\u001b[38;5;124mprice\u001b[39m\u001b[38;5;124m'\u001b[39m: [\u001b[38;5;241m100\u001b[39m, \u001b[38;5;241m200\u001b[39m, \u001b[38;5;241m150\u001b[39m, \u001b[38;5;241m300\u001b[39m],\n\u001b[0;32m      2\u001b[0m        \u001b[38;5;124m'\u001b[39m\u001b[38;5;124mquantity\u001b[39m\u001b[38;5;124m'\u001b[39m:[\u001b[38;5;241m5\u001b[39m,\u001b[38;5;241m2\u001b[39m,\u001b[38;5;241m1\u001b[39m,\u001b[38;5;241m3\u001b[39m]}\n\u001b[1;32m----> 3\u001b[0m new_df \u001b[38;5;241m=\u001b[39m \u001b[43mpd\u001b[49m\u001b[38;5;241m.\u001b[39mDataFrame(data)\n\u001b[0;32m      4\u001b[0m \u001b[38;5;66;03m# Apply a lambda function to calculate discounted price\u001b[39;00m\n\u001b[0;32m      5\u001b[0m new_df[\u001b[38;5;124m'\u001b[39m\u001b[38;5;124mnew_price\u001b[39m\u001b[38;5;124m'\u001b[39m] \u001b[38;5;241m=\u001b[39m new_df[\u001b[38;5;124m'\u001b[39m\u001b[38;5;124mprice\u001b[39m\u001b[38;5;124m'\u001b[39m]\u001b[38;5;241m.\u001b[39mapply(\u001b[38;5;28;01mlambda\u001b[39;00m x: x \u001b[38;5;241m*\u001b[39m \u001b[38;5;241m0.9\u001b[39m)\n",
      "\u001b[1;31mNameError\u001b[0m: name 'pd' is not defined"
     ]
    }
   ],
   "source": [
    "data = {'price': [100, 200, 150, 300],\n",
    "       'quantity':[5,2,1,3]}\n",
    "new_df = pd.DataFrame(data)\n",
    "# Apply a lambda function to calculate discounted price\n",
    "new_df['new_price'] = new_df['price'].apply(lambda x: x * 0.9)\n",
    "\n",
    "print(new_df.to_string())"
   ]
  },
  {
   "cell_type": "code",
   "execution_count": 2,
   "id": "3f17e2f4-6815-44d3-8051-8b38d9c996bc",
   "metadata": {},
   "outputs": [],
   "source": [
    "#creating function\n",
    "def classify_number(number):\n",
    "    if number < 5:\n",
    "        return 'small'\n",
    "    elif number >= 5 and number < 10:\n",
    "        return 'medium'\n",
    "    else:\n",
    "        return 'large'    "
   ]
  },
  {
   "cell_type": "code",
   "execution_count": 3,
   "id": "8c74247d-11be-4160-909c-e70a8cfebfac",
   "metadata": {},
   "outputs": [
    {
     "data": {
      "text/plain": [
       "'large'"
      ]
     },
     "execution_count": 3,
     "metadata": {},
     "output_type": "execute_result"
    }
   ],
   "source": [
    "classify_number(100)"
   ]
  },
  {
   "cell_type": "code",
   "execution_count": 5,
   "id": "72a04284-1e3e-4220-9c6f-fcc5e8a0bb36",
   "metadata": {},
   "outputs": [
    {
     "ename": "NameError",
     "evalue": "name 'new_df' is not defined",
     "output_type": "error",
     "traceback": [
      "\u001b[1;31m---------------------------------------------------------------------------\u001b[0m",
      "\u001b[1;31mNameError\u001b[0m                                 Traceback (most recent call last)",
      "Cell \u001b[1;32mIn[5], line 1\u001b[0m\n\u001b[1;32m----> 1\u001b[0m new_df[\u001b[38;5;124m'\u001b[39m\u001b[38;5;124mquantity_classify\u001b[39m\u001b[38;5;124m'\u001b[39m] \u001b[38;5;241m=\u001b[39m \u001b[43mnew_df\u001b[49m[\u001b[38;5;124m'\u001b[39m\u001b[38;5;124mquantity\u001b[39m\u001b[38;5;124m'\u001b[39m]\u001b[38;5;241m.\u001b[39mapply(classify_number)\n",
      "\u001b[1;31mNameError\u001b[0m: name 'new_df' is not defined"
     ]
    }
   ],
   "source": [
    "new_df['quantity_classify'] = new_df['quantity'].apply(classify_number)"
   ]
  },
  {
   "cell_type": "code",
   "execution_count": null,
   "id": "d55ef224-a714-44ab-907a-783ba74baf3f",
   "metadata": {},
   "outputs": [],
   "source": []
  }
 ],
 "metadata": {
  "kernelspec": {
   "display_name": "Python 3 (ipykernel)",
   "language": "python",
   "name": "python3"
  },
  "language_info": {
   "codemirror_mode": {
    "name": "ipython",
    "version": 3
   },
   "file_extension": ".py",
   "mimetype": "text/x-python",
   "name": "python",
   "nbconvert_exporter": "python",
   "pygments_lexer": "ipython3",
   "version": "3.11.4"
  }
 },
 "nbformat": 4,
 "nbformat_minor": 5
}
