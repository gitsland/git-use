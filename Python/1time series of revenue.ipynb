{
 "cells": [
  {
   "cell_type": "code",
   "execution_count": 1,
   "id": "cfcb7130-bd4d-439e-8a17-1bae53fc65ba",
   "metadata": {},
   "outputs": [
    {
     "data": {
      "text/html": [
       "<div>\n",
       "<style scoped>\n",
       "    .dataframe tbody tr th:only-of-type {\n",
       "        vertical-align: middle;\n",
       "    }\n",
       "\n",
       "    .dataframe tbody tr th {\n",
       "        vertical-align: top;\n",
       "    }\n",
       "\n",
       "    .dataframe thead th {\n",
       "        text-align: right;\n",
       "    }\n",
       "</style>\n",
       "<table border=\"1\" class=\"dataframe\">\n",
       "  <thead>\n",
       "    <tr style=\"text-align: right;\">\n",
       "      <th></th>\n",
       "      <th>country</th>\n",
       "      <th>amount</th>\n",
       "      <th>payment_date</th>\n",
       "    </tr>\n",
       "  </thead>\n",
       "  <tbody>\n",
       "    <tr>\n",
       "      <th>0</th>\n",
       "      <td>Mexico</td>\n",
       "      <td>4.99</td>\n",
       "      <td>2007-03-21 08:17:22.996577</td>\n",
       "    </tr>\n",
       "    <tr>\n",
       "      <th>1</th>\n",
       "      <td>China</td>\n",
       "      <td>5.99</td>\n",
       "      <td>2007-03-23 05:50:28.996577</td>\n",
       "    </tr>\n",
       "    <tr>\n",
       "      <th>2</th>\n",
       "      <td>China</td>\n",
       "      <td>1.99</td>\n",
       "      <td>2007-04-29 06:06:14.996577</td>\n",
       "    </tr>\n",
       "    <tr>\n",
       "      <th>3</th>\n",
       "      <td>China</td>\n",
       "      <td>2.99</td>\n",
       "      <td>2007-04-10 15:42:53.996577</td>\n",
       "    </tr>\n",
       "    <tr>\n",
       "      <th>4</th>\n",
       "      <td>China</td>\n",
       "      <td>5.99</td>\n",
       "      <td>2007-02-15 04:27:21.996577</td>\n",
       "    </tr>\n",
       "    <tr>\n",
       "      <th>5</th>\n",
       "      <td>China</td>\n",
       "      <td>4.99</td>\n",
       "      <td>2007-03-19 00:06:13.996577</td>\n",
       "    </tr>\n",
       "    <tr>\n",
       "      <th>6</th>\n",
       "      <td>China</td>\n",
       "      <td>1.99</td>\n",
       "      <td>2007-04-29 08:49:26.996577</td>\n",
       "    </tr>\n",
       "    <tr>\n",
       "      <th>7</th>\n",
       "      <td>Mexico</td>\n",
       "      <td>4.99</td>\n",
       "      <td>2007-03-01 21:28:48.996577</td>\n",
       "    </tr>\n",
       "    <tr>\n",
       "      <th>8</th>\n",
       "      <td>Bangladesh</td>\n",
       "      <td>4.99</td>\n",
       "      <td>2007-04-09 05:10:58.996577</td>\n",
       "    </tr>\n",
       "    <tr>\n",
       "      <th>9</th>\n",
       "      <td>Mexico</td>\n",
       "      <td>6.99</td>\n",
       "      <td>2007-03-01 19:07:58.996577</td>\n",
       "    </tr>\n",
       "  </tbody>\n",
       "</table>\n",
       "</div>"
      ],
      "text/plain": [
       "      country  amount                payment_date\n",
       "0      Mexico    4.99  2007-03-21 08:17:22.996577\n",
       "1       China    5.99  2007-03-23 05:50:28.996577\n",
       "2       China    1.99  2007-04-29 06:06:14.996577\n",
       "3       China    2.99  2007-04-10 15:42:53.996577\n",
       "4       China    5.99  2007-02-15 04:27:21.996577\n",
       "5       China    4.99  2007-03-19 00:06:13.996577\n",
       "6       China    1.99  2007-04-29 08:49:26.996577\n",
       "7      Mexico    4.99  2007-03-01 21:28:48.996577\n",
       "8  Bangladesh    4.99  2007-04-09 05:10:58.996577\n",
       "9      Mexico    6.99  2007-03-01 19:07:58.996577"
      ]
     },
     "execution_count": 1,
     "metadata": {},
     "output_type": "execute_result"
    }
   ],
   "source": [
    "import pandas as pd\n",
    "import numpy as np\n",
    "import matplotlib.pyplot as plt\n",
    "\n",
    "countries_df = pd.read_csv(\"C:\\\\Python main\\\\practise\\\\csv files\\\\1.country revenue time series.csv\")\n",
    "countries_df.head(10)\n"
   ]
  },
  {
   "cell_type": "code",
   "execution_count": 12,
   "id": "9edf9408-f96e-4b88-bb91-e4dc2385fd49",
   "metadata": {},
   "outputs": [
    {
     "ename": "SyntaxError",
     "evalue": "invalid syntax (2662175186.py, line 1)",
     "output_type": "error",
     "traceback": [
      "\u001b[1;36m  Cell \u001b[1;32mIn[12], line 1\u001b[1;36m\u001b[0m\n\u001b[1;33m    for i in range(0,(countries_df..shape[0])):\u001b[0m\n\u001b[1;37m                                   ^\u001b[0m\n\u001b[1;31mSyntaxError\u001b[0m\u001b[1;31m:\u001b[0m invalid syntax\n"
     ]
    }
   ],
   "source": [
    "for i in range(0,(countries_df.shape[0])):\n",
    "\n",
    "    if countries_df.iloc[i]['country']=='Mexico':\n",
    "        plt.bar(countries_df['payment_date'],countries_df['amount'], color='red', label='M') \n",
    "        \n",
    "\n",
    "    else :\n",
    "        plt.bar(countries_df['payment_date'],countries_df['amount'], color='green', label='B') \n",
    "        \n",
    "#i=+1\n",
    "#countries_df.iloc[0]['country']\n",
    "\n",
    "plt.xlabel('Dates')\n",
    "plt.ylabel('total revenue')\n",
    "plt.title(' time-series plot showing daily total revenue for 3 countries')\n",
    "#plt.xticks(rotation=45)\n",
    "\n",
    "plt.show()\n"
   ]
  },
  {
   "cell_type": "code",
   "execution_count": 10,
   "id": "59331033-aa6a-4b66-a202-2e6d114a0172",
   "metadata": {},
   "outputs": [
    {
     "name": "stdout",
     "output_type": "stream",
     "text": [
      "0\n",
      "not mex\n",
      "not mex\n",
      "not mex\n",
      "not mex\n",
      "not mex\n",
      "not mex\n",
      "7\n",
      "not mex\n",
      "9\n"
     ]
    }
   ],
   "source": [
    "for i in range(0,10):\n",
    "\n",
    "    if countries_df.iloc[i]['country']=='Mexico':\n",
    "        #plt.bar(countries_df['payment_date'],countries_df['amount'], color='red', label='M') \n",
    "        print (i)  \n",
    "\n",
    "    else :\n",
    "        #plt.bar(countries_df['payment_date'],countries_df['amount'], color='green', label='B') \n",
    "        print ('not mex')"
   ]
  },
  {
   "cell_type": "code",
   "execution_count": 7,
   "id": "7fd57a57-2811-4400-915e-447202a96dd3",
   "metadata": {},
   "outputs": [
    {
     "data": {
      "text/plain": [
       "'China'"
      ]
     },
     "execution_count": 7,
     "metadata": {},
     "output_type": "execute_result"
    }
   ],
   "source": [
    "countries_df.iloc[1]['country']"
   ]
  },
  {
   "cell_type": "code",
   "execution_count": null,
   "id": "e5579faf-ba45-418c-82c5-50e29e28c80a",
   "metadata": {},
   "outputs": [],
   "source": [
    "for i in range(0,10):\n",
    "\n",
    "    if countries_df.iloc[i]['country']=='Mexico':\n",
    "        plt.bar(countries_df['payment_date'],countries_df['amount'], color='red') \n",
    "        \n",
    "    else :\n",
    "        plt.bar(countries_df['payment_date']*100,countries_df['amount'], color='green') \n",
    "        \n",
    "\n",
    "plt.xlabel('Dates')\n",
    "plt.ylabel('total revenue')\n",
    "plt.title(' time-series plot showing daily total revenue for 3 countries')\n",
    "#plt.xticks(rotation=45)\n",
    "\n",
    "plt.show()"
   ]
  },
  {
   "cell_type": "code",
   "execution_count": 14,
   "id": "1857aa65-4395-47cd-9737-c8ea4e995695",
   "metadata": {},
   "outputs": [
    {
     "data": {
      "image/png": "[encoded data removed]",
      "text/plain": [
       "<Figure size 640x480 with 1 Axes>"
      ]
     },
     "metadata": {},
     "output_type": "display_data"
    }
   ],
   "source": [
    "for i in range(0,50):\n",
    "\n",
    "    if countries_df.iloc[i]['country']=='Mexico':\n",
    "        plt.scatter(countries_df['payment_date'],countries_df['amount'], color='red') \n",
    "        \n",
    "    else :\n",
    "        plt.scatter(countries_df['payment_date'],countries_df['amount'], color='green') \n",
    "        \n",
    "\n",
    "plt.xlabel('Dates')\n",
    "plt.ylabel('total revenue')\n",
    "plt.title(' time-series plot showing daily total revenue for 3 countries')\n",
    "#plt.xticks(rotation=45)\n",
    "\n",
    "plt.show()"
   ]
  },
  {
   "cell_type": "code",
   "execution_count": 2,
   "id": "b7b1d7a2-749c-4fd6-9fb6-a8824ccca68b",
   "metadata": {},
   "outputs": [
    {
     "ename": "NameError",
     "evalue": "name 'countries_df' is not defined",
     "output_type": "error",
     "traceback": [
      "\u001b[1;31m---------------------------------------------------------------------------\u001b[0m",
      "\u001b[1;31mNameError\u001b[0m                                 Traceback (most recent call last)",
      "Cell \u001b[1;32mIn[2], line 1\u001b[0m\n\u001b[1;32m----> 1\u001b[0m \u001b[38;5;28;01mfor\u001b[39;00m i \u001b[38;5;129;01min\u001b[39;00m \u001b[38;5;28mrange\u001b[39m(\u001b[38;5;241m0\u001b[39m,(\u001b[43mcountries_df\u001b[49m\u001b[38;5;241m.\u001b[39mshape[\u001b[38;5;241m0\u001b[39m])):\n\u001b[0;32m      3\u001b[0m     \u001b[38;5;28;01mif\u001b[39;00m countries_df\u001b[38;5;241m.\u001b[39miloc[i][\u001b[38;5;124m'\u001b[39m\u001b[38;5;124mcountry\u001b[39m\u001b[38;5;124m'\u001b[39m]\u001b[38;5;241m==\u001b[39m\u001b[38;5;124m'\u001b[39m\u001b[38;5;124mMexico\u001b[39m\u001b[38;5;124m'\u001b[39m:\n\u001b[0;32m      4\u001b[0m         \u001b[38;5;66;03m#plt.bar(countries_df['payment_date'],countries_df['amount'], color='red', label='M') \u001b[39;00m\n\u001b[0;32m      5\u001b[0m         \u001b[38;5;28mprint\u001b[39m (i)  \n",
      "\u001b[1;31mNameError\u001b[0m: name 'countries_df' is not defined"
     ]
    }
   ],
   "source": [
    "for i in range(0,(countries_df.shape[0])):\n",
    "\n",
    "    if countries_df.iloc[i]['country']=='Mexico':\n",
    "        #plt.bar(countries_df['payment_date'],countries_df['amount'], color='red', label='M') \n",
    "        print (i)  \n",
    "\n",
    "    else :\n",
    "        #plt.bar(countries_df['payment_date'],countries_df['amount'], color='green', label='B') \n",
    "        print ('not mex')"
   ]
  },
  {
   "cell_type": "code",
   "execution_count": null,
   "id": "39e05422-753e-4dca-8827-9342bb279c4f",
   "metadata": {},
   "outputs": [],
   "source": [
    "import pandas as pd\n",
    "import numpy as np\n",
    "import matplotlib.pyplot as plt\n",
    "\n",
    "countries_df = pd.read_csv(\"C:\\\\Python main\\\\practise\\\\csv files\\\\1.country revenue time series.csv\")\n",
    "\n",
    "\n",
    "\n",
    "for i in range(0,(countries_df.shape[0])):\n",
    "\n",
    "    if countries_df.iloc[0]['country']=='Mexico':\n",
    "        plt.bar(countries_df['payment_date'],countries_df['amount'], color='red', label='M') \n",
    "\n",
    "    else :\n",
    "        plt.bar(countries_df['payment_date'],countries_df['amount'], color='green', label='B') \n",
    "#i=+1\n",
    "#countries_df.iloc[0]['country']\n",
    "\n",
    "plt.xlabel('Dates')\n",
    "plt.ylabel('total revenue')\n",
    "plt.title(' time-series plot showing daily total revenue for 3 countries')\n",
    "#plt.xticks(rotation=45)\n",
    "\n",
    "plt.show()\n"
   ]
  },
  {
   "cell_type": "code",
   "execution_count": null,
   "id": "af2e2e2a-42fb-44a1-9b91-f7fe480377a6",
   "metadata": {},
   "outputs": [],
   "source": []
  }
 ],
 "metadata": {
  "kernelspec": {
   "display_name": "Python 3 (ipykernel)",
   "language": "python",
   "name": "python3"
  },
  "language_info": {
   "codemirror_mode": {
    "name": "ipython",
    "version": 3
   },
   "file_extension": ".py",
   "mimetype": "text/x-python",
   "name": "python",
   "nbconvert_exporter": "python",
   "pygments_lexer": "ipython3",
   "version": "3.11.4"
  }
 },
 "nbformat": 4,
 "nbformat_minor": 5
}
