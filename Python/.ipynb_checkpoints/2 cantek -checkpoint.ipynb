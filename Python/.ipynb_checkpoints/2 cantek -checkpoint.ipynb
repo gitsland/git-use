{
 "cells": [
  {
   "cell_type": "code",
   "execution_count": 1,
   "id": "dba55485-d8ae-40c7-82f5-9d875f5bbc95",
   "metadata": {},
   "outputs": [
    {
     "name": "stdout",
     "output_type": "stream",
     "text": [
      "   staff_id  month  total_payment\n",
      "0         2      4       14409.10\n",
      "1         1      4       14150.36\n",
      "2         1      3       11990.27\n",
      "3         2      3       11896.29\n",
      "4         2      2        4211.93\n",
      "5         1      2        4139.91\n",
      "6         2      5         296.01\n",
      "7         1      5         218.17\n"
     ]
    }
   ],
   "source": [
    "import pandas as pd\n",
    "\n",
    "df = pd.read_csv('staff performance.csv')\n",
    "\n",
    "print(df.to_string()) "
   ]
  },
  {
   "cell_type": "code",
   "execution_count": 2,
   "id": "94d817d6-bf92-4124-908d-b46936d52e37",
   "metadata": {},
   "outputs": [],
   "source": [
    "df['new_column'] = df['month'].apply(lambda x: x*10)"
   ]
  },
  {
   "cell_type": "code",
   "execution_count": 3,
   "id": "f864157a-b18a-497d-9fd4-122079cd70a7",
   "metadata": {},
   "outputs": [
    {
     "data": {
      "text/plain": [
       "0    40\n",
       "1    40\n",
       "2    30\n",
       "3    30\n",
       "4    20\n",
       "5    20\n",
       "6    50\n",
       "7    50\n",
       "Name: new_column, dtype: int64"
      ]
     },
     "execution_count": 3,
     "metadata": {},
     "output_type": "execute_result"
    }
   ],
   "source": [
    "df['new_column']"
   ]
  },
  {
   "cell_type": "code",
   "execution_count": 4,
   "id": "a5815456-5c88-4b06-93a7-6f3d90fffa27",
   "metadata": {},
   "outputs": [
    {
     "name": "stdout",
     "output_type": "stream",
     "text": [
      "   staff_id  month  total_payment  new_column\n",
      "0         2      4       14409.10          40\n",
      "1         1      4       14150.36          40\n",
      "2         1      3       11990.27          30\n",
      "3         2      3       11896.29          30\n",
      "4         2      2        4211.93          20\n",
      "5         1      2        4139.91          20\n",
      "6         2      5         296.01          50\n",
      "7         1      5         218.17          50\n"
     ]
    }
   ],
   "source": [
    "print(df.to_string()) "
   ]
  },
  {
   "cell_type": "code",
   "execution_count": 5,
   "id": "05e7d46a-1f23-4a42-bb3c-772cf9ff691a",
   "metadata": {},
   "outputs": [],
   "source": [
    "df['2nd_new_column'] = df['month']*10"
   ]
  },
  {
   "cell_type": "code",
   "execution_count": 6,
   "id": "02295864-dfb2-4fd9-9014-d80a41313462",
   "metadata": {},
   "outputs": [
    {
     "name": "stdout",
     "output_type": "stream",
     "text": [
      "   staff_id  month  total_payment  new_column  2nd_new_column\n",
      "0         2      4       14409.10          40              40\n",
      "1         1      4       14150.36          40              40\n",
      "2         1      3       11990.27          30              30\n",
      "3         2      3       11896.29          30              30\n",
      "4         2      2        4211.93          20              20\n",
      "5         1      2        4139.91          20              20\n",
      "6         2      5         296.01          50              50\n",
      "7         1      5         218.17          50              50\n"
     ]
    }
   ],
   "source": [
    "print(df.to_string()) "
   ]
  },
  {
   "cell_type": "code",
   "execution_count": 9,
   "id": "0bfedd3b-a229-4352-954e-525089a3775b",
   "metadata": {},
   "outputs": [
    {
     "name": "stdout",
     "output_type": "stream",
     "text": [
      "   price  new_price\n",
      "0    100       90.0\n",
      "1    200      180.0\n",
      "2    150      135.0\n",
      "3    300      270.0\n"
     ]
    }
   ],
   "source": [
    "data = {'price': [100, 200, 150, 300]}\n",
    "new_df = pd.DataFrame(data)\n",
    "# Apply a lambda function to calculate discounted price\n",
    "new_df['new_price'] = new_df['price'].apply(lambda x: x * 0.9)\n",
    "\n",
    "print(new_df.to_string())"
   ]
  },
  {
   "cell_type": "code",
   "execution_count": 10,
   "id": "86e7e4fd-756b-49de-a1e3-2d902364c712",
   "metadata": {},
   "outputs": [
    {
     "name": "stdout",
     "output_type": "stream",
     "text": [
      "   price  quantity  new_price\n",
      "0    100         5       90.0\n",
      "1    200         2      180.0\n",
      "2    150         1      135.0\n",
      "3    300         3      270.0\n"
     ]
    }
   ],
   "source": [
    "data = {'price': [100, 200, 150, 300],\n",
    "       'quantity':[5,2,1,3]}\n",
    "new_df = pd.DataFrame(data)\n",
    "# Apply a lambda function to calculate discounted price\n",
    "new_df['new_price'] = new_df['price'].apply(lambda x: x * 0.9)\n",
    "\n",
    "print(new_df.to_string())"
   ]
  },
  {
   "cell_type": "code",
   "execution_count": 12,
   "id": "3f17e2f4-6815-44d3-8051-8b38d9c996bc",
   "metadata": {},
   "outputs": [],
   "source": [
    "#creating function\n",
    "def classify_number(number):\n",
    "    if number < 5:\n",
    "        return 'small'\n",
    "    elif number >= 5 and number < 10:\n",
    "        return 'medium'\n",
    "    else:\n",
    "        return 'large'    "
   ]
  },
  {
   "cell_type": "code",
   "execution_count": null,
   "id": "8c74247d-11be-4160-909c-e70a8cfebfac",
   "metadata": {},
   "outputs": [],
   "source": []
  }
 ],
 "metadata": {
  "kernelspec": {
   "display_name": "Python 3 (ipykernel)",
   "language": "python",
   "name": "python3"
  },
  "language_info": {
   "codemirror_mode": {
    "name": "ipython",
    "version": 3
   },
   "file_extension": ".py",
   "mimetype": "text/x-python",
   "name": "python",
   "nbconvert_exporter": "python",
   "pygments_lexer": "ipython3",
   "version": "3.11.4"
  }
 },
 "nbformat": 4,
 "nbformat_minor": 5
}
