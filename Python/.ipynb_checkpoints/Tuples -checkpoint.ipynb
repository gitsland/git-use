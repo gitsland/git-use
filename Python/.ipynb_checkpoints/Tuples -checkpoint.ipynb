{
 "cells": [
  {
   "cell_type": "code",
   "execution_count": 1,
   "id": "f61ad91a-b92a-415f-824a-a8088177dc07",
   "metadata": {},
   "outputs": [],
   "source": [
    "My_tuple = (3, 5, 7, 8)"
   ]
  },
  {
   "cell_type": "code",
   "execution_count": 2,
   "id": "390991c5-dc95-4d31-82e3-d63889734109",
   "metadata": {},
   "outputs": [
    {
     "name": "stdout",
     "output_type": "stream",
     "text": [
      "(3, 5, 7, 8)\n"
     ]
    }
   ],
   "source": [
    "print(My_tuple)"
   ]
  },
  {
   "cell_type": "code",
   "execution_count": null,
   "id": "9c45bffc-94e4-4b40-8b25-3cd89d564041",
   "metadata": {},
   "outputs": [],
   "source": []
  },
  {
   "cell_type": "code",
   "execution_count": 2,
   "id": "8e194f54-6940-4e46-bfe5-6919370ad443",
   "metadata": {},
   "outputs": [],
   "source": [
    "Tplhascomma = ('If tuple does not have comma then it is considered as string instead of a class' ,) "
   ]
  },
  {
   "cell_type": "code",
   "execution_count": 3,
   "id": "f805f2c2-7d3d-4eab-af64-fe0c1e7085ad",
   "metadata": {},
   "outputs": [
    {
     "name": "stdout",
     "output_type": "stream",
     "text": [
      "<class 'tuple'>\n"
     ]
    }
   ],
   "source": [
    "print(type(Tplhascomma))"
   ]
  },
  {
   "cell_type": "code",
   "execution_count": 4,
   "id": "b840689c-4b1a-4785-9c07-ac61bdbd4949",
   "metadata": {},
   "outputs": [
    {
     "name": "stdout",
     "output_type": "stream",
     "text": [
      "('If tuple does not have comma then it is considered as string instead of a class',)\n"
     ]
    }
   ],
   "source": [
    "print(Tplhascomma)"
   ]
  },
  {
   "cell_type": "code",
   "execution_count": 5,
   "id": "6f35d26b-a980-4055-bd59-d213bfddb850",
   "metadata": {},
   "outputs": [
    {
     "data": {
      "text/plain": [
       "1"
      ]
     },
     "execution_count": 5,
     "metadata": {},
     "output_type": "execute_result"
    }
   ],
   "source": [
    "len(Tplhascomma)"
   ]
  },
  {
   "cell_type": "code",
   "execution_count": null,
   "id": "c637437b-fd8f-423c-91af-7e42f4e6d706",
   "metadata": {},
   "outputs": [],
   "source": []
  },
  {
   "cell_type": "code",
   "execution_count": 20,
   "id": "28305ac5-e781-4ab1-a2cb-018dcba4065c",
   "metadata": {},
   "outputs": [],
   "source": [
    "cutyPie = ('Tuple', 'elements', 'are', 'unchangeable', True , 0 , -3 , 123456 , '123456' , -3 , 'any value')"
   ]
  },
  {
   "cell_type": "code",
   "execution_count": 21,
   "id": "d643ce7a-a8ca-4edf-a1ae-ebbf795e1dae",
   "metadata": {},
   "outputs": [
    {
     "name": "stdout",
     "output_type": "stream",
     "text": [
      "<class 'tuple'>\n"
     ]
    }
   ],
   "source": [
    "print(type(cutyPie))"
   ]
  },
  {
   "cell_type": "code",
   "execution_count": 8,
   "id": "7bca7a47-d436-4dfc-8f1d-516e1f1326f1",
   "metadata": {},
   "outputs": [
    {
     "data": {
      "text/plain": [
       "11"
      ]
     },
     "execution_count": 8,
     "metadata": {},
     "output_type": "execute_result"
    }
   ],
   "source": [
    "len(cutyPie)"
   ]
  },
  {
   "cell_type": "code",
   "execution_count": 9,
   "id": "587b6ad7-2fef-494b-b16f-975302897a21",
   "metadata": {},
   "outputs": [
    {
     "name": "stdout",
     "output_type": "stream",
     "text": [
      "Tuple\n",
      "elements\n",
      "are\n",
      "unchangeable\n",
      "True\n",
      "0\n",
      "-3\n",
      "123456\n",
      "123456\n",
      "-3\n",
      "any value\n"
     ]
    }
   ],
   "source": [
    "for i in range(len(cutyPie)):\n",
    " print(cutyPie[i])"
   ]
  },
  {
   "cell_type": "code",
   "execution_count": 10,
   "id": "5e67e385-a54a-4e7c-874c-cf1c26c945c3",
   "metadata": {},
   "outputs": [
    {
     "data": {
      "text/plain": [
       "'elements'"
      ]
     },
     "execution_count": 10,
     "metadata": {},
     "output_type": "execute_result"
    }
   ],
   "source": [
    "cutyPie[1]"
   ]
  }
 ],
 "metadata": {
  "kernelspec": {
   "display_name": "Python 3 (ipykernel)",
   "language": "python",
   "name": "python3"
  },
  "language_info": {
   "codemirror_mode": {
    "name": "ipython",
    "version": 3
   },
   "file_extension": ".py",
   "mimetype": "text/x-python",
   "name": "python",
   "nbconvert_exporter": "python",
   "pygments_lexer": "ipython3",
   "version": "3.11.4"
  }
 },
 "nbformat": 4,
 "nbformat_minor": 5
}
