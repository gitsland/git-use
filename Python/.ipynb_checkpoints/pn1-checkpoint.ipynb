{
 "cells": [
  {
   "cell_type": "code",
   "execution_count": 7,
   "id": "33867eef-82ac-44c7-83f7-babbd66a0700",
   "metadata": {},
   "outputs": [],
   "source": [
    "My_list =  [2, 7.9, 3, 'sdfsdf',1.67]"
   ]
  },
  {
   "cell_type": "code",
   "execution_count": 6,
   "id": "06652daa-b6f9-46bc-8b88-f45b95c357a9",
   "metadata": {},
   "outputs": [
    {
     "name": "stdout",
     "output_type": "stream",
     "text": [
      "2\n",
      "7.9\n",
      "3\n",
      "sdfsdf\n",
      "1.67\n"
     ]
    }
   ],
   "source": [
    "for i in range(5):\n",
    "    print (My_list[i])"
   ]
  },
  {
   "cell_type": "code",
   "execution_count": 1,
   "id": "99b08e03-9645-4f07-aa83-44a60bd3d1cb",
   "metadata": {},
   "outputs": [],
   "source": [
    "My_set = {1, 2, 3, 'dsfsdf', 3.6}"
   ]
  },
  {
   "cell_type": "code",
   "execution_count": 23,
   "id": "472f5e49-92c1-4312-8938-3e55a9144768",
   "metadata": {},
   "outputs": [
    {
     "data": {
      "text/plain": [
       "5"
      ]
     },
     "execution_count": 23,
     "metadata": {},
     "output_type": "execute_result"
    }
   ],
   "source": [
    "len(My_set)"
   ]
  },
  {
   "cell_type": "code",
   "execution_count": 17,
   "id": "93b84968-74f3-41f3-83da-2544bcbf7e27",
   "metadata": {},
   "outputs": [
    {
     "data": {
      "text/plain": [
       "4"
      ]
     },
     "execution_count": 17,
     "metadata": {},
     "output_type": "execute_result"
    }
   ],
   "source": [
    "4"
   ]
  },
  {
   "cell_type": "code",
   "execution_count": 26,
   "id": "9a7e9c57-4e6a-42ed-9d28-583236cb9bb0",
   "metadata": {},
   "outputs": [],
   "source": [
    "My_set.add('zzz')"
   ]
  },
  {
   "cell_type": "code",
   "execution_count": 27,
   "id": "2e0093cf-4379-44c0-9b5c-61451cff1974",
   "metadata": {},
   "outputs": [
    {
     "name": "stdout",
     "output_type": "stream",
     "text": [
      "{1, 2, 3.6, 3, 'dsfsdf', 'zzz'}\n"
     ]
    }
   ],
   "source": [
    "print(My_set)"
   ]
  },
  {
   "cell_type": "code",
   "execution_count": 28,
   "id": "a9eed303-dd42-4928-90fc-23e7c08177ee",
   "metadata": {},
   "outputs": [],
   "source": [
    "My_set.discard(3.6)"
   ]
  },
  {
   "cell_type": "code",
   "execution_count": 29,
   "id": "0bf295c3-4a98-4a77-a9b6-a773a97d9993",
   "metadata": {},
   "outputs": [
    {
     "name": "stdout",
     "output_type": "stream",
     "text": [
      "{1, 2, 3, 'dsfsdf', 'zzz'}\n"
     ]
    }
   ],
   "source": [
    "print(My_set)"
   ]
  },
  {
   "cell_type": "code",
   "execution_count": 2,
   "id": "19f46434-81ff-4ac1-99c0-e779d12d0ab5",
   "metadata": {},
   "outputs": [],
   "source": [
    "New_set = {1,2,2, 5}"
   ]
  },
  {
   "cell_type": "code",
   "execution_count": 3,
   "id": "c93b8dc0-0a42-4dc0-924d-1a1769318228",
   "metadata": {},
   "outputs": [
    {
     "data": {
      "text/plain": [
       "{1, 2, 3, 3.6, 5, 'dsfsdf'}"
      ]
     },
     "execution_count": 3,
     "metadata": {},
     "output_type": "execute_result"
    }
   ],
   "source": [
    "My_set.union(New_set)"
   ]
  },
  {
   "cell_type": "code",
   "execution_count": 4,
   "id": "37cf80c1-13b7-4d2b-9e36-b4b56c5ecd6c",
   "metadata": {},
   "outputs": [
    {
     "data": {
      "text/plain": [
       "{1, 2}"
      ]
     },
     "execution_count": 4,
     "metadata": {},
     "output_type": "execute_result"
    }
   ],
   "source": [
    "My_set.intersection(New_set)"
   ]
  },
  {
   "cell_type": "code",
   "execution_count": 7,
   "id": "6b3cf98e-fa1a-42fc-9720-c91f9fa3c860",
   "metadata": {},
   "outputs": [],
   "source": [
    "some_string = 'sdfdfhsjkklfjksdkjfkl'"
   ]
  },
  {
   "cell_type": "code",
   "execution_count": 7,
   "id": "afb9d819-50ff-445f-bd9f-7fb93f4e86a7",
   "metadata": {},
   "outputs": [
    {
     "data": {
      "text/plain": [
       "'hsjkk'"
      ]
     },
     "execution_count": 7,
     "metadata": {},
     "output_type": "execute_result"
    }
   ],
   "source": [
    "some_string[5:10]"
   ]
  },
  {
   "cell_type": "code",
   "execution_count": 15,
   "id": "74147990-12ba-47b3-8d96-162d28c62f3d",
   "metadata": {},
   "outputs": [
    {
     "name": "stdout",
     "output_type": "stream",
     "text": [
      "d\n",
      "1\n",
      "f\n",
      "2\n",
      "d\n",
      "3\n",
      "f\n",
      "4\n",
      "h\n",
      "5\n"
     ]
    }
   ],
   "source": [
    "i = 1\n",
    "while i < 6:\n",
    "    print(some_string[i])\n",
    "    print(i)\n",
    "    i += 1"
   ]
  },
  {
   "cell_type": "code",
   "execution_count": 16,
   "id": "e5bb00d0-23ef-42d6-85df-31a9dd7324ea",
   "metadata": {},
   "outputs": [
    {
     "name": "stdout",
     "output_type": "stream",
     "text": [
      "s\n",
      "0\n",
      "d\n",
      "1\n",
      "f\n",
      "2\n",
      "d\n",
      "3\n"
     ]
    }
   ],
   "source": [
    "counter = 0\n",
    "while counter < 4:\n",
    "    print(some_string[counter])\n",
    "    print (counter)\n",
    "    counter += 1"
   ]
  },
  {
   "cell_type": "code",
   "execution_count": 12,
   "id": "7becb110-eb08-4842-9c8a-e164a41d863c",
   "metadata": {},
   "outputs": [
    {
     "name": "stdout",
     "output_type": "stream",
     "text": [
      "large\n"
     ]
    }
   ],
   "source": [
    "if len(some_string) < 20:\n",
    "    print('small')\n",
    "else:\n",
    "    print('large')"
   ]
  },
  {
   "cell_type": "code",
   "execution_count": 13,
   "id": "ff3983e2-9936-42f3-85db-7c44c9fbc66e",
   "metadata": {},
   "outputs": [
    {
     "name": "stdout",
     "output_type": "stream",
     "text": [
      "medium\n"
     ]
    }
   ],
   "source": [
    "if len(some_string) < 20:\n",
    "    print('small')\n",
    "elif len(some_string) < 30:\n",
    "    print('medium')\n",
    "else:\n",
    "    print('large')"
   ]
  },
  {
   "cell_type": "code",
   "execution_count": 14,
   "id": "f5d3e087-c98e-436b-876c-8fd808736c1f",
   "metadata": {},
   "outputs": [],
   "source": [
    "import pandas as pd\n",
    "import numpy as np\n",
    "import matplotlib.pyplot as plt"
   ]
  },
  {
   "cell_type": "code",
   "execution_count": 17,
   "id": "9624eabb-454f-4754-aa11-6efcdf010e1f",
   "metadata": {},
   "outputs": [
    {
     "ename": "NameError",
     "evalue": "name 'pd' is not defined",
     "output_type": "error",
     "traceback": [
      "\u001b[1;31m---------------------------------------------------------------------------\u001b[0m",
      "\u001b[1;31mNameError\u001b[0m                                 Traceback (most recent call last)",
      "Cell \u001b[1;32mIn[17], line 1\u001b[0m\n\u001b[1;32m----> 1\u001b[0m df \u001b[38;5;241m=\u001b[39m \u001b[43mpd\u001b[49m\u001b[38;5;241m.\u001b[39mread_csv(\u001b[38;5;124m'\u001b[39m\u001b[38;5;124msome results.csv\u001b[39m\u001b[38;5;124m'\u001b[39m)\n",
      "\u001b[1;31mNameError\u001b[0m: name 'pd' is not defined"
     ]
    }
   ],
   "source": [
    "df = pd.read_csv('some results.csv')"
   ]
  },
  {
   "cell_type": "code",
   "execution_count": null,
   "id": "c32a1f86-78ee-4ee4-9d0f-bd807140a23a",
   "metadata": {},
   "outputs": [],
   "source": []
  },
  {
   "cell_type": "code",
   "execution_count": null,
   "id": "90007d43-39db-4679-89f5-643294acb111",
   "metadata": {},
   "outputs": [],
   "source": []
  }
 ],
 "metadata": {
  "kernelspec": {
   "display_name": "Python 3 (ipykernel)",
   "language": "python",
   "name": "python3"
  },
  "language_info": {
   "codemirror_mode": {
    "name": "ipython",
    "version": 3
   },
   "file_extension": ".py",
   "mimetype": "text/x-python",
   "name": "python",
   "nbconvert_exporter": "python",
   "pygments_lexer": "ipython3",
   "version": "3.11.4"
  }
 },
 "nbformat": 4,
 "nbformat_minor": 5
}
