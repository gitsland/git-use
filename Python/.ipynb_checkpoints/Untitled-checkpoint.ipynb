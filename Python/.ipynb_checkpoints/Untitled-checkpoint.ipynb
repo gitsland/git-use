{
 "cells": [
  {
   "cell_type": "code",
   "execution_count": 1,
   "id": "82b79cfd-ac80-4632-83ab-8680ecdbdddb",
   "metadata": {},
   "outputs": [
    {
     "ename": "NameError",
     "evalue": "name 'pwd' is not defined",
     "output_type": "error",
     "traceback": [
      "\u001b[1;31m---------------------------------------------------------------------------\u001b[0m",
      "\u001b[1;31mNameError\u001b[0m                                 Traceback (most recent call last)",
      "Cell \u001b[1;32mIn[1], line 2\u001b[0m\n\u001b[0;32m      1\u001b[0m \u001b[38;5;66;03m#print working directory\u001b[39;00m\n\u001b[1;32m----> 2\u001b[0m \u001b[43mpwd\u001b[49m\n",
      "\u001b[1;31mNameError\u001b[0m: name 'pwd' is not defined"
     ]
    }
   ],
   "source": [
    "#print working directory\n",
    "pwd"
   ]
  },
  {
   "cell_type": "code",
   "execution_count": 2,
   "id": "f9908334-8916-4be2-a7f2-485ac46d6b8a",
   "metadata": {},
   "outputs": [
    {
     "name": "stdout",
     "output_type": "stream",
     "text": [
      "   staff_id  month  total_payment\n",
      "0         2      4       14409.10\n",
      "1         1      4       14150.36\n",
      "2         1      3       11990.27\n",
      "3         2      3       11896.29\n",
      "4         2      2        4211.93\n",
      "5         1      2        4139.91\n",
      "6         2      5         296.01\n",
      "7         1      5         218.17\n"
     ]
    }
   ],
   "source": [
    "import pandas as pd\n",
    "\n",
    "df = pd.read_csv('staff performance.csv')\n",
    "\n",
    "print(df.to_string()) "
   ]
  },
  {
   "cell_type": "code",
   "execution_count": 3,
   "id": "593b7ef1-2baa-48a5-a6e4-4edcc2384880",
   "metadata": {},
   "outputs": [
    {
     "data": {
      "text/plain": [
       "'C:\\\\Users\\\\Mourin\\\\OneDrive\\\\Documents\\\\git use\\\\Python'"
      ]
     },
     "execution_count": 3,
     "metadata": {},
     "output_type": "execute_result"
    }
   ],
   "source": [
    "pwd"
   ]
  },
  {
   "cell_type": "code",
   "execution_count": 4,
   "id": "c1f953db-c03c-474f-a397-f46dbd9515dd",
   "metadata": {},
   "outputs": [
    {
     "ename": "SyntaxError",
     "evalue": "(unicode error) 'unicodeescape' codec can't decode bytes in position 2-3: truncated \\UXXXXXXXX escape (952939373.py, line 1)",
     "output_type": "error",
     "traceback": [
      "\u001b[1;36m  Cell \u001b[1;32mIn[4], line 1\u001b[1;36m\u001b[0m\n\u001b[1;33m    csv_location = 'C:\\Users\\Mourin\\OneDrive\\Documents\\git use\\project 2\\3.Count , min,max,avg,stddev.csv'\u001b[0m\n\u001b[1;37m                                                                                                          ^\u001b[0m\n\u001b[1;31mSyntaxError\u001b[0m\u001b[1;31m:\u001b[0m (unicode error) 'unicodeescape' codec can't decode bytes in position 2-3: truncated \\UXXXXXXXX escape\n"
     ]
    }
   ],
   "source": [
    "csv_location = 'C:\\Users\\Mourin\\OneDrive\\Documents\\git use\\project 2\\3.Count , min,max,avg,stddev.csv'"
   ]
  },
  {
   "cell_type": "code",
   "execution_count": 5,
   "id": "da9feae1-cef2-44a2-933a-be867a2865e8",
   "metadata": {},
   "outputs": [],
   "source": [
    "csv_location = 'C:\\\\Users\\\\Mourin\\\\OneDrive\\\\Documents\\\\git use\\\\project 2\\\\3.Count , min,max,avg,stddev.csv'"
   ]
  },
  {
   "cell_type": "code",
   "execution_count": 6,
   "id": "c67dda9e-315f-43e7-bc59-f75da99a9c43",
   "metadata": {},
   "outputs": [],
   "source": [
    "df2 = pd.read_csv(csv_location)"
   ]
  },
  {
   "cell_type": "code",
   "execution_count": 7,
   "id": "91977654-25a7-4acc-b277-080cc7aabc33",
   "metadata": {},
   "outputs": [
    {
     "data": {
      "text/html": [
       "<div>\n",
       "<style scoped>\n",
       "    .dataframe tbody tr th:only-of-type {\n",
       "        vertical-align: middle;\n",
       "    }\n",
       "\n",
       "    .dataframe tbody tr th {\n",
       "        vertical-align: top;\n",
       "    }\n",
       "\n",
       "    .dataframe thead th {\n",
       "        text-align: right;\n",
       "    }\n",
       "</style>\n",
       "<table border=\"1\" class=\"dataframe\">\n",
       "  <thead>\n",
       "    <tr style=\"text-align: right;\">\n",
       "      <th></th>\n",
       "      <th>numberofcustomers</th>\n",
       "      <th>average_payment</th>\n",
       "      <th>min_payment</th>\n",
       "      <th>max_payment</th>\n",
       "      <th>standerd_dev_payment</th>\n",
       "    </tr>\n",
       "  </thead>\n",
       "  <tbody>\n",
       "    <tr>\n",
       "      <th>0</th>\n",
       "      <td>7</td>\n",
       "      <td>3.990000</td>\n",
       "      <td>0.99</td>\n",
       "      <td>8.99</td>\n",
       "      <td>2.886751</td>\n",
       "    </tr>\n",
       "    <tr>\n",
       "      <th>1</th>\n",
       "      <td>10</td>\n",
       "      <td>3.290000</td>\n",
       "      <td>0.99</td>\n",
       "      <td>6.99</td>\n",
       "      <td>2.162817</td>\n",
       "    </tr>\n",
       "    <tr>\n",
       "      <th>2</th>\n",
       "      <td>12</td>\n",
       "      <td>4.156667</td>\n",
       "      <td>0.99</td>\n",
       "      <td>8.99</td>\n",
       "      <td>2.443296</td>\n",
       "    </tr>\n",
       "    <tr>\n",
       "      <th>3</th>\n",
       "      <td>13</td>\n",
       "      <td>2.913077</td>\n",
       "      <td>0.99</td>\n",
       "      <td>5.99</td>\n",
       "      <td>2.059998</td>\n",
       "    </tr>\n",
       "    <tr>\n",
       "      <th>4</th>\n",
       "      <td>13</td>\n",
       "      <td>5.066923</td>\n",
       "      <td>0.99</td>\n",
       "      <td>10.99</td>\n",
       "      <td>3.094660</td>\n",
       "    </tr>\n",
       "    <tr>\n",
       "      <th>...</th>\n",
       "      <td>...</td>\n",
       "      <td>...</td>\n",
       "      <td>...</td>\n",
       "      <td>...</td>\n",
       "      <td>...</td>\n",
       "    </tr>\n",
       "    <tr>\n",
       "      <th>594</th>\n",
       "      <td>39</td>\n",
       "      <td>3.836154</td>\n",
       "      <td>0.00</td>\n",
       "      <td>9.99</td>\n",
       "      <td>2.558358</td>\n",
       "    </tr>\n",
       "    <tr>\n",
       "      <th>595</th>\n",
       "      <td>39</td>\n",
       "      <td>4.990000</td>\n",
       "      <td>0.99</td>\n",
       "      <td>10.99</td>\n",
       "      <td>2.305600</td>\n",
       "    </tr>\n",
       "    <tr>\n",
       "      <th>596</th>\n",
       "      <td>40</td>\n",
       "      <td>4.740000</td>\n",
       "      <td>0.99</td>\n",
       "      <td>9.99</td>\n",
       "      <td>2.529315</td>\n",
       "    </tr>\n",
       "    <tr>\n",
       "      <th>597</th>\n",
       "      <td>42</td>\n",
       "      <td>4.966190</td>\n",
       "      <td>0.99</td>\n",
       "      <td>10.99</td>\n",
       "      <td>2.589737</td>\n",
       "    </tr>\n",
       "    <tr>\n",
       "      <th>598</th>\n",
       "      <td>45</td>\n",
       "      <td>4.701111</td>\n",
       "      <td>0.99</td>\n",
       "      <td>10.99</td>\n",
       "      <td>2.616575</td>\n",
       "    </tr>\n",
       "  </tbody>\n",
       "</table>\n",
       "<p>599 rows × 5 columns</p>\n",
       "</div>"
      ],
      "text/plain": [
       "     numberofcustomers  average_payment  min_payment  max_payment  \\\n",
       "0                    7         3.990000         0.99         8.99   \n",
       "1                   10         3.290000         0.99         6.99   \n",
       "2                   12         4.156667         0.99         8.99   \n",
       "3                   13         2.913077         0.99         5.99   \n",
       "4                   13         5.066923         0.99        10.99   \n",
       "..                 ...              ...          ...          ...   \n",
       "594                 39         3.836154         0.00         9.99   \n",
       "595                 39         4.990000         0.99        10.99   \n",
       "596                 40         4.740000         0.99         9.99   \n",
       "597                 42         4.966190         0.99        10.99   \n",
       "598                 45         4.701111         0.99        10.99   \n",
       "\n",
       "     standerd_dev_payment  \n",
       "0                2.886751  \n",
       "1                2.162817  \n",
       "2                2.443296  \n",
       "3                2.059998  \n",
       "4                3.094660  \n",
       "..                    ...  \n",
       "594              2.558358  \n",
       "595              2.305600  \n",
       "596              2.529315  \n",
       "597              2.589737  \n",
       "598              2.616575  \n",
       "\n",
       "[599 rows x 5 columns]"
      ]
     },
     "execution_count": 7,
     "metadata": {},
     "output_type": "execute_result"
    }
   ],
   "source": [
    "df2"
   ]
  },
  {
   "cell_type": "code",
   "execution_count": null,
   "id": "e4547f65-4981-4c79-827a-e6e5086b2d4e",
   "metadata": {},
   "outputs": [],
   "source": []
  }
 ],
 "metadata": {
  "kernelspec": {
   "display_name": "Python 3 (ipykernel)",
   "language": "python",
   "name": "python3"
  },
  "language_info": {
   "codemirror_mode": {
    "name": "ipython",
    "version": 3
   },
   "file_extension": ".py",
   "mimetype": "text/x-python",
   "name": "python",
   "nbconvert_exporter": "python",
   "pygments_lexer": "ipython3",
   "version": "3.11.4"
  }
 },
 "nbformat": 4,
 "nbformat_minor": 5
}
