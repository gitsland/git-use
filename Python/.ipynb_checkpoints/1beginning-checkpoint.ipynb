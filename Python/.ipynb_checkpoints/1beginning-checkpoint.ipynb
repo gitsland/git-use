{
 "cells": [
  {
   "cell_type": "code",
   "execution_count": 1,
   "id": "d0fa5e41-a3b7-49af-808a-b36391ca1a5f",
   "metadata": {},
   "outputs": [],
   "source": [
    "My_tuple = (3, 5, 7, 8)"
   ]
  },
  {
   "cell_type": "code",
   "execution_count": 1,
   "id": "3ca7bc4a-cd25-4590-9700-1b1ed5d8bf9f",
   "metadata": {},
   "outputs": [
    {
     "ename": "SyntaxError",
     "evalue": "invalid character '‘' (U+2018) (2184063883.py, line 1)",
     "output_type": "error",
     "traceback": [
      "\u001b[1;36m  Cell \u001b[1;32mIn[1], line 1\u001b[1;36m\u001b[0m\n\u001b[1;33m    My_dictionary = {‘name’: ‘Bob’, ‘age’: 30}\u001b[0m\n\u001b[1;37m                     ^\u001b[0m\n\u001b[1;31mSyntaxError\u001b[0m\u001b[1;31m:\u001b[0m invalid character '‘' (U+2018)\n"
     ]
    }
   ],
   "source": [
    "My_dictionary = {‘name’: ‘Bob’, ‘age’: 30, }"
   ]
  },
  {
   "cell_type": "code",
   "execution_count": 3,
   "id": "80bd5d75-f403-4e5d-8a5c-bb5e01f86a93",
   "metadata": {},
   "outputs": [],
   "source": [
    "My_list =  [2, 7.9, 3, 'sdfsdf',1.67]"
   ]
  },
  {
   "cell_type": "code",
   "execution_count": 5,
   "id": "5cfcc479-f5f3-463d-beec-2f0596105030",
   "metadata": {},
   "outputs": [
    {
     "data": {
      "text/plain": [
       "[2, 7.9, 3, 'sdfsdf']"
      ]
     },
     "execution_count": 5,
     "metadata": {},
     "output_type": "execute_result"
    }
   ],
   "source": [
    "My_list[0:4]"
   ]
  },
  {
   "cell_type": "code",
   "execution_count": null,
   "id": "2a22d65d-89cb-42fa-9088-12e15d4fa488",
   "metadata": {},
   "outputs": [],
   "source": []
  },
  {
   "cell_type": "code",
   "execution_count": 6,
   "id": "6bdf5d50-aa3c-4af8-b968-7e615bccd91d",
   "metadata": {},
   "outputs": [
    {
     "data": {
      "text/plain": [
       "1.67"
      ]
     },
     "execution_count": 6,
     "metadata": {},
     "output_type": "execute_result"
    }
   ],
   "source": [
    "My_list[4]"
   ]
  },
  {
   "cell_type": "code",
   "execution_count": 8,
   "id": "b6846d78-a7e1-4bd5-b61b-7e414017f1a6",
   "metadata": {},
   "outputs": [
    {
     "name": "stdout",
     "output_type": "stream",
     "text": [
      "2\n",
      "7.9\n",
      "3\n",
      "sdfsdf\n",
      "1.67\n"
     ]
    }
   ],
   "source": [
    "for blah in My_list:\n",
    "    print(blah)"
   ]
  },
  {
   "cell_type": "code",
   "execution_count": 9,
   "id": "c69970cc-9987-490a-b024-fe676c7c9546",
   "metadata": {},
   "outputs": [
    {
     "name": "stdout",
     "output_type": "stream",
     "text": [
      "0\n",
      "1\n",
      "2\n",
      "3\n",
      "4\n"
     ]
    }
   ],
   "source": [
    "for i in range(len(My_list)):\n",
    "    print(i)"
   ]
  },
  {
   "cell_type": "code",
   "execution_count": 10,
   "id": "d45ac9c2-77f8-436f-b43a-36e458bf2aa4",
   "metadata": {},
   "outputs": [
    {
     "name": "stdout",
     "output_type": "stream",
     "text": [
      "2\n",
      "7.9\n",
      "3\n",
      "sdfsdf\n",
      "1.67\n"
     ]
    }
   ],
   "source": [
    "for i in range(len(My_list)):\n",
    "    print(My_list[i])"
   ]
  },
  {
   "cell_type": "code",
   "execution_count": null,
   "id": "5f9c0942-d1a6-4049-a21a-bb6fd7d080f4",
   "metadata": {},
   "outputs": [],
   "source": []
  }
 ],
 "metadata": {
  "kernelspec": {
   "display_name": "Python 3 (ipykernel)",
   "language": "python",
   "name": "python3"
  },
  "language_info": {
   "codemirror_mode": {
    "name": "ipython",
    "version": 3
   },
   "file_extension": ".py",
   "mimetype": "text/x-python",
   "name": "python",
   "nbconvert_exporter": "python",
   "pygments_lexer": "ipython3",
   "version": "3.11.4"
  }
 },
 "nbformat": 4,
 "nbformat_minor": 5
}
