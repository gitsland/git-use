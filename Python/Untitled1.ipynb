{
 "cells": [
  {
   "cell_type": "code",
   "execution_count": 1,
   "id": "dba55485-d8ae-40c7-82f5-9d875f5bbc95",
   "metadata": {},
   "outputs": [
    {
     "name": "stdout",
     "output_type": "stream",
     "text": [
      "   staff_id  month  total_payment\n",
      "0         2      4       14409.10\n",
      "1         1      4       14150.36\n",
      "2         1      3       11990.27\n",
      "3         2      3       11896.29\n",
      "4         2      2        4211.93\n",
      "5         1      2        4139.91\n",
      "6         2      5         296.01\n",
      "7         1      5         218.17\n"
     ]
    }
   ],
   "source": [
    "import pandas as pd\n",
    "\n",
    "df = pd.read_csv('staff performance.csv')\n",
    "\n",
    "print(df.to_string()) "
   ]
  },
  {
   "cell_type": "code",
   "execution_count": 2,
   "id": "94d817d6-bf92-4124-908d-b46936d52e37",
   "metadata": {},
   "outputs": [],
   "source": [
    "df['new_column'] = df['month'].apply(lambda x: x*10)"
   ]
  },
  {
   "cell_type": "code",
   "execution_count": 3,
   "id": "f864157a-b18a-497d-9fd4-122079cd70a7",
   "metadata": {},
   "outputs": [
    {
     "data": {
      "text/plain": [
       "0    40\n",
       "1    40\n",
       "2    30\n",
       "3    30\n",
       "4    20\n",
       "5    20\n",
       "6    50\n",
       "7    50\n",
       "Name: new_column, dtype: int64"
      ]
     },
     "execution_count": 3,
     "metadata": {},
     "output_type": "execute_result"
    }
   ],
   "source": [
    "df['new_column']"
   ]
  },
  {
   "cell_type": "code",
   "execution_count": 4,
   "id": "a5815456-5c88-4b06-93a7-6f3d90fffa27",
   "metadata": {},
   "outputs": [
    {
     "name": "stdout",
     "output_type": "stream",
     "text": [
      "   staff_id  month  total_payment  new_column\n",
      "0         2      4       14409.10          40\n",
      "1         1      4       14150.36          40\n",
      "2         1      3       11990.27          30\n",
      "3         2      3       11896.29          30\n",
      "4         2      2        4211.93          20\n",
      "5         1      2        4139.91          20\n",
      "6         2      5         296.01          50\n",
      "7         1      5         218.17          50\n"
     ]
    }
   ],
   "source": [
    "print(df.to_string()) "
   ]
  },
  {
   "cell_type": "code",
   "execution_count": 5,
   "id": "05e7d46a-1f23-4a42-bb3c-772cf9ff691a",
   "metadata": {},
   "outputs": [],
   "source": [
    "df['2nd_new_column'] = df['month']*10"
   ]
  },
  {
   "cell_type": "code",
   "execution_count": 6,
   "id": "02295864-dfb2-4fd9-9014-d80a41313462",
   "metadata": {},
   "outputs": [
    {
     "name": "stdout",
     "output_type": "stream",
     "text": [
      "   staff_id  month  total_payment  new_column  2nd_new_column\n",
      "0         2      4       14409.10          40              40\n",
      "1         1      4       14150.36          40              40\n",
      "2         1      3       11990.27          30              30\n",
      "3         2      3       11896.29          30              30\n",
      "4         2      2        4211.93          20              20\n",
      "5         1      2        4139.91          20              20\n",
      "6         2      5         296.01          50              50\n",
      "7         1      5         218.17          50              50\n"
     ]
    }
   ],
   "source": [
    "print(df.to_string()) "
   ]
  },
  {
   "cell_type": "code",
   "execution_count": 9,
   "id": "0bfedd3b-a229-4352-954e-525089a3775b",
   "metadata": {},
   "outputs": [
    {
     "name": "stdout",
     "output_type": "stream",
     "text": [
      "   price  new_price\n",
      "0    100       90.0\n",
      "1    200      180.0\n",
      "2    150      135.0\n",
      "3    300      270.0\n"
     ]
    }
   ],
   "source": [
    "data = {'price': [100, 200, 150, 300]}\n",
    "new_df = pd.DataFrame(data)\n",
    "# Apply a lambda function to calculate discounted price\n",
    "new_df['new_price'] = new_df['price'].apply(lambda x: x * 0.9)\n",
    "\n",
    "print(new_df.to_string())"
   ]
  },
  {
   "cell_type": "code",
   "execution_count": 10,
   "id": "86e7e4fd-756b-49de-a1e3-2d902364c712",
   "metadata": {},
   "outputs": [
    {
     "name": "stdout",
     "output_type": "stream",
     "text": [
      "   price  quantity  new_price\n",
      "0    100         5       90.0\n",
      "1    200         2      180.0\n",
      "2    150         1      135.0\n",
      "3    300         3      270.0\n"
     ]
    }
   ],
   "source": [
    "data = {'price': [100, 200, 150, 300],\n",
    "       'quantity':[5,2,1,3]}\n",
    "new_df = pd.DataFrame(data)\n",
    "# Apply a lambda function to calculate discounted price\n",
    "new_df['new_price'] = new_df['price'].apply(lambda x: x * 0.9)\n",
    "\n",
    "print(new_df.to_string())"
   ]
  },
  {
   "cell_type": "code",
   "execution_count": 12,
   "id": "3f17e2f4-6815-44d3-8051-8b38d9c996bc",
   "metadata": {},
   "outputs": [],
   "source": [
    "#creating function\n",
    "def classify_number(number):\n",
    "    if number < 5:\n",
    "        return 'small'\n",
    "    elif number >= 5 and number < 10:\n",
    "        return 'medium'\n",
    "    else:\n",
    "        return 'large'    "
   ]
  },
  {
   "cell_type": "code",
   "execution_count": 13,
   "id": "8c74247d-11be-4160-909c-e70a8cfebfac",
   "metadata": {},
   "outputs": [],
   "source": [
    "new_df['quantity_classify'] = new_df['quantity'].apply(classify_number)"
   ]
  },
  {
   "cell_type": "code",
   "execution_count": 14,
   "id": "a6be3741-55d7-4c18-9408-f00ad8371bfd",
   "metadata": {},
   "outputs": [
    {
     "name": "stdout",
     "output_type": "stream",
     "text": [
      "   price  quantity  new_price quantity_classify\n",
      "0    100         5       90.0            medium\n",
      "1    200         2      180.0             small\n",
      "2    150         1      135.0             small\n",
      "3    300         3      270.0             small\n"
     ]
    }
   ],
   "source": [
    "print(new_df.to_string())"
   ]
  },
  {
   "cell_type": "code",
   "execution_count": 15,
   "id": "ad8186df-f49e-444c-8c6e-af56e05a9e67",
   "metadata": {},
   "outputs": [
    {
     "data": {
      "text/html": [
       "<div>\n",
       "<style scoped>\n",
       "    .dataframe tbody tr th:only-of-type {\n",
       "        vertical-align: middle;\n",
       "    }\n",
       "\n",
       "    .dataframe tbody tr th {\n",
       "        vertical-align: top;\n",
       "    }\n",
       "\n",
       "    .dataframe thead th {\n",
       "        text-align: right;\n",
       "    }\n",
       "</style>\n",
       "<table border=\"1\" class=\"dataframe\">\n",
       "  <thead>\n",
       "    <tr style=\"text-align: right;\">\n",
       "      <th></th>\n",
       "      <th>price</th>\n",
       "      <th>quantity</th>\n",
       "      <th>new_price</th>\n",
       "      <th>quantity_classify</th>\n",
       "    </tr>\n",
       "  </thead>\n",
       "  <tbody>\n",
       "    <tr>\n",
       "      <th>0</th>\n",
       "      <td>100</td>\n",
       "      <td>5</td>\n",
       "      <td>90.0</td>\n",
       "      <td>medium</td>\n",
       "    </tr>\n",
       "    <tr>\n",
       "      <th>1</th>\n",
       "      <td>200</td>\n",
       "      <td>2</td>\n",
       "      <td>180.0</td>\n",
       "      <td>small</td>\n",
       "    </tr>\n",
       "    <tr>\n",
       "      <th>2</th>\n",
       "      <td>150</td>\n",
       "      <td>1</td>\n",
       "      <td>135.0</td>\n",
       "      <td>small</td>\n",
       "    </tr>\n",
       "    <tr>\n",
       "      <th>3</th>\n",
       "      <td>300</td>\n",
       "      <td>3</td>\n",
       "      <td>270.0</td>\n",
       "      <td>small</td>\n",
       "    </tr>\n",
       "  </tbody>\n",
       "</table>\n",
       "</div>"
      ],
      "text/plain": [
       "   price  quantity  new_price quantity_classify\n",
       "0    100         5       90.0            medium\n",
       "1    200         2      180.0             small\n",
       "2    150         1      135.0             small\n",
       "3    300         3      270.0             small"
      ]
     },
     "execution_count": 15,
     "metadata": {},
     "output_type": "execute_result"
    }
   ],
   "source": [
    "new_df"
   ]
  },
  {
   "cell_type": "code",
   "execution_count": null,
   "id": "5292d103-1e47-461d-a3a7-09a6e604344b",
   "metadata": {},
   "outputs": [],
   "source": [
    "#missed lower upper in number function"
   ]
  },
  {
   "cell_type": "code",
   "execution_count": null,
   "id": "1d8fed06-b610-4f2c-973d-1a8d51c50823",
   "metadata": {},
   "outputs": [],
   "source": [
    "#Creating a new column based on a condition (one column) ----numpy lib"
   ]
  },
  {
   "cell_type": "markdown",
   "id": "e8001bd4-48e2-4f62-a375-73b7584ff2d7",
   "metadata": {},
   "source": [
    "It is veto incorporate without numpyry hard to carry out operation on multiple columns without the NumPy library. Using stuff like lamda it can be tough "
   ]
  },
  {
   "cell_type": "code",
   "execution_count": 19,
   "id": "139c4dfe-8a26-4ec6-b646-3f55d2aa088c",
   "metadata": {},
   "outputs": [
    {
     "name": "stdout",
     "output_type": "stream",
     "text": [
      "   A   B   C\n",
      "0  1  10  20\n",
      "1  2  20  40\n",
      "2  3  30  35\n",
      "3  4  40  45\n",
      "4  5  50  55\n"
     ]
    }
   ],
   "source": [
    "import numpy as np\n",
    "\n",
    "data = {'A': [1, 2, 3, 4, 5], 'B': [10, 20, 30, 40, 50]}\n",
    "df4 = pd.DataFrame(data)\n",
    "\n",
    "condition1 = df4['A'] < 3\n",
    "function1 = lambda x: x * 2\n",
    "condition2 = df4['A'] >= 3\n",
    "function2 = lambda x: x + 5\n",
    "\n",
    "df4['C'] = np.where(condition1, function1(df4['B']), function2(df4['B']))\n",
    "\n",
    "print(df4)\n"
   ]
  },
  {
   "cell_type": "code",
   "execution_count": null,
   "id": "ec53edeb-6fa8-497e-bb60-1f1eafb42aef",
   "metadata": {},
   "outputs": [],
   "source": [
    "#see pic\n",
    "\n",
    "data = {'A': [1, 2, 3, 4, 5], 'B': [10, 20, 30, 40, 50]}\n",
    "df4 = pd.DataFrame(data)\n",
    "\n",
    "condition1 = df4['A'] < 3\n",
    "function1 = lambda x: x * 2\n",
    "condition2 = df4['A'] >= 3\n",
    "function2 = lambda x: x + 5\n",
    "\n",
    "df4['C'] = np.where(condition1, function1(df4['B']), function2(df4['B']))\n",
    "\n",
    "print(df4)"
   ]
  },
  {
   "cell_type": "code",
   "execution_count": null,
   "id": "ebc703a6-1e78-4e6d-bdc6-16125f85f8f8",
   "metadata": {},
   "outputs": [],
   "source": []
  },
  {
   "cell_type": "code",
   "execution_count": null,
   "id": "a246800b-08dc-4bba-8dfd-139e38af0df2",
   "metadata": {},
   "outputs": [],
   "source": []
  },
  {
   "cell_type": "code",
   "execution_count": null,
   "id": "28911b13-fedc-445a-85de-76b272278fc7",
   "metadata": {},
   "outputs": [],
   "source": []
  },
  {
   "cell_type": "code",
   "execution_count": 20,
   "id": "8b02a49f-553d-4b5b-99ce-c4f33ac4e760",
   "metadata": {},
   "outputs": [],
   "source": [
    "data = {'A': [1, 2, 3, 4, 5], 'B': [10, 20, 30, 40, 50]}\n",
    "df = pd.DataFrame(data)\n",
    "# Define the conditions and corresponding functions/logic\n",
    "condition1 = df['A'] < 3\n",
    "function1 = lambda x: x * 2\n",
    "condition2 = df['A'] >= 3\n",
    "function2 = lambda x: x + 5\n",
    "# Apply the functions/logic based on conditions and create the new column\n",
    "df['C'] = np.where(condition1,function1(df['A']),function2(df['B']))\n"
   ]
  },
  {
   "cell_type": "code",
   "execution_count": 22,
   "id": "f45f7b18-f84f-4370-a43e-852473bec57b",
   "metadata": {},
   "outputs": [
    {
     "name": "stdout",
     "output_type": "stream",
     "text": [
      "   A   B   C\n",
      "0  1  10   2\n",
      "1  2  20   4\n",
      "2  3  30  35\n",
      "3  4  40  45\n",
      "4  5  50  55\n"
     ]
    }
   ],
   "source": [
    "print(df)"
   ]
  },
  {
   "cell_type": "code",
   "execution_count": 21,
   "id": "52e4831c-3b44-4529-b168-7e2499e52866",
   "metadata": {},
   "outputs": [
    {
     "data": {
      "text/plain": [
       "numpy.int64"
      ]
     },
     "execution_count": 21,
     "metadata": {},
     "output_type": "execute_result"
    }
   ],
   "source": [
    "type(df.iloc[1][1])"
   ]
  },
  {
   "cell_type": "code",
   "execution_count": 23,
   "id": "dd434bb8-943f-4e52-b57f-06277114465c",
   "metadata": {},
   "outputs": [
    {
     "data": {
      "text/plain": [
       "numpy.int64"
      ]
     },
     "execution_count": 23,
     "metadata": {},
     "output_type": "execute_result"
    }
   ],
   "source": [
    "type(df.iloc[0][1])"
   ]
  },
  {
   "cell_type": "code",
   "execution_count": null,
   "id": "2cf2ee38-1fb7-4a1b-84c3-81186b5454b6",
   "metadata": {},
   "outputs": [],
   "source": [
    "#after 12pm"
   ]
  },
  {
   "cell_type": "code",
   "execution_count": null,
   "id": "8007827c-4e05-4cd8-b973-0eb658965caa",
   "metadata": {},
   "outputs": [],
   "source": []
  },
  {
   "cell_type": "code",
   "execution_count": null,
   "id": "1e581c74-a19d-4b14-a3b5-a78ae5e654d3",
   "metadata": {},
   "outputs": [],
   "source": []
  },
  {
   "cell_type": "code",
   "execution_count": 24,
   "id": "dd3c06f9-9073-44c0-ae9c-a040c23726ff",
   "metadata": {},
   "outputs": [
    {
     "name": "stdout",
     "output_type": "stream",
     "text": [
      "   A   B   C\n",
      "0  1  10  12\n",
      "1  2  20  24\n",
      "2  3  30  36\n",
      "3  4  40  48\n",
      "4  5  50  60\n"
     ]
    }
   ],
   "source": [
    "import pandas as pd\n",
    "\n",
    "data = {'A': [1, 2, 3, 4, 5], 'B': [10, 20, 30, 40, 50]}\n",
    "df = pd.DataFrame(data)\n",
    "\n",
    "# Define the lambda function to operate on multiple columns\n",
    "function = lambda row: row['A'] * 2 + row['B']\n",
    "\n",
    "# Apply the lambda function to create the new column\n",
    "df['C'] = df.apply(function, axis=1)\n",
    "\n",
    "# Display the updated DataFrame\n",
    "print(df)"
   ]
  },
  {
   "cell_type": "code",
   "execution_count": null,
   "id": "e82f39e3-3ab3-43a7-85c8-c738ec7a0636",
   "metadata": {},
   "outputs": [],
   "source": []
  }
 ],
 "metadata": {
  "kernelspec": {
   "display_name": "Python 3 (ipykernel)",
   "language": "python",
   "name": "python3"
  },
  "language_info": {
   "codemirror_mode": {
    "name": "ipython",
    "version": 3
   },
   "file_extension": ".py",
   "mimetype": "text/x-python",
   "name": "python",
   "nbconvert_exporter": "python",
   "pygments_lexer": "ipython3",
   "version": "3.11.4"
  }
 },
 "nbformat": 4,
 "nbformat_minor": 5
}
