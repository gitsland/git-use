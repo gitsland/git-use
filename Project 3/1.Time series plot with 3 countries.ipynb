{
 "cells": [
  {
   "cell_type": "code",
   "execution_count": 1,
   "id": "35dbd3c3-eeb0-4a7e-b4ba-7d5160e3ca54",
   "metadata": {},
   "outputs": [],
   "source": [
    "import pandas as pd\n",
    "import numpy as np\n",
    "import matplotlib.pyplot as plt\n",
    "\n",
    "c_df = pd.read_csv(\"C:\\\\Python main\\\\practise\\\\csv files\\\\1.country revenue time series.csv\")"
   ]
  },
  {
   "cell_type": "code",
   "execution_count": 2,
   "id": "d5d25951-ea53-4bd9-a71c-4e9780a31123",
   "metadata": {},
   "outputs": [
    {
     "data": {
      "image/png": "[encoded data removed]",
      "text/plain": [
       "<Figure size 640x480 with 1 Axes>"
      ]
     },
     "metadata": {},
     "output_type": "display_data"
    }
   ],
   "source": [
    "for i in range(0,50):\n",
    "\n",
    "    if c_df.iloc[i]['country']=='Mexico':\n",
    "        plt.bar(c_df['payment_date'],c_df['amount'], color='red', label='M')\n",
    "        #plt.bar(countries_df['payment_date'],countries_df['amount'], color='red', label='M') \n",
    "        #print (i) \n",
    "    elif c_df.iloc[i]['country']=='China' and c_df.iloc[i]['country']!='Bangladesh':\n",
    "        plt.bar(c_df['payment_date'],c_df['amount'], color='green', label='C')\n",
    "        #print ('China')\n",
    "    else :\n",
    "        plt.bar(c_df['payment_date'],c_df['amount'], color='blue', label='B')\n",
    "        #plt.bar(countries_df['payment_date'],countries_df['amount'], color='green', label='B') \n",
    "        #print ('not mex')\n",
    "\n",
    "\n",
    "plt.xlabel('Dates')\n",
    "plt.ylabel('Daily Total revenue')\n",
    "plt.title(' Time-series plot showing daily total revenue for 3 countries')\n",
    "#plt.xticks(rotation=45)\n",
    "plt.show()"
   ]
  },
  {
   "cell_type": "code",
   "execution_count": 3,
   "id": "70daf804-eaf3-47c7-91e5-da69e21459cd",
   "metadata": {},
   "outputs": [
    {
     "data": {
      "text/html": [
       "<div>\n",
       "<style scoped>\n",
       "    .dataframe tbody tr th:only-of-type {\n",
       "        vertical-align: middle;\n",
       "    }\n",
       "\n",
       "    .dataframe tbody tr th {\n",
       "        vertical-align: top;\n",
       "    }\n",
       "\n",
       "    .dataframe thead th {\n",
       "        text-align: right;\n",
       "    }\n",
       "</style>\n",
       "<table border=\"1\" class=\"dataframe\">\n",
       "  <thead>\n",
       "    <tr style=\"text-align: right;\">\n",
       "      <th></th>\n",
       "      <th>country</th>\n",
       "      <th>amount</th>\n",
       "      <th>payment_date</th>\n",
       "    </tr>\n",
       "  </thead>\n",
       "  <tbody>\n",
       "    <tr>\n",
       "      <th>0</th>\n",
       "      <td>Mexico</td>\n",
       "      <td>4.99</td>\n",
       "      <td>2007-03-21 08:17:22.996577</td>\n",
       "    </tr>\n",
       "    <tr>\n",
       "      <th>1</th>\n",
       "      <td>China</td>\n",
       "      <td>5.99</td>\n",
       "      <td>2007-03-23 05:50:28.996577</td>\n",
       "    </tr>\n",
       "    <tr>\n",
       "      <th>2</th>\n",
       "      <td>China</td>\n",
       "      <td>1.99</td>\n",
       "      <td>2007-04-29 06:06:14.996577</td>\n",
       "    </tr>\n",
       "    <tr>\n",
       "      <th>3</th>\n",
       "      <td>China</td>\n",
       "      <td>2.99</td>\n",
       "      <td>2007-04-10 15:42:53.996577</td>\n",
       "    </tr>\n",
       "    <tr>\n",
       "      <th>4</th>\n",
       "      <td>China</td>\n",
       "      <td>5.99</td>\n",
       "      <td>2007-02-15 04:27:21.996577</td>\n",
       "    </tr>\n",
       "    <tr>\n",
       "      <th>...</th>\n",
       "      <td>...</td>\n",
       "      <td>...</td>\n",
       "      <td>...</td>\n",
       "    </tr>\n",
       "    <tr>\n",
       "      <th>2080</th>\n",
       "      <td>China</td>\n",
       "      <td>2.99</td>\n",
       "      <td>2007-03-22 22:31:27.996577</td>\n",
       "    </tr>\n",
       "    <tr>\n",
       "      <th>2081</th>\n",
       "      <td>Mexico</td>\n",
       "      <td>3.99</td>\n",
       "      <td>2007-03-22 00:33:04.996577</td>\n",
       "    </tr>\n",
       "    <tr>\n",
       "      <th>2082</th>\n",
       "      <td>China</td>\n",
       "      <td>1.99</td>\n",
       "      <td>2007-03-20 15:33:28.996577</td>\n",
       "    </tr>\n",
       "    <tr>\n",
       "      <th>2083</th>\n",
       "      <td>China</td>\n",
       "      <td>4.99</td>\n",
       "      <td>2007-04-10 09:53:54.996577</td>\n",
       "    </tr>\n",
       "    <tr>\n",
       "      <th>2084</th>\n",
       "      <td>Mexico</td>\n",
       "      <td>6.99</td>\n",
       "      <td>2007-03-17 03:24:42.996577</td>\n",
       "    </tr>\n",
       "  </tbody>\n",
       "</table>\n",
       "<p>2085 rows × 3 columns</p>\n",
       "</div>"
      ],
      "text/plain": [
       "     country  amount                payment_date\n",
       "0     Mexico    4.99  2007-03-21 08:17:22.996577\n",
       "1      China    5.99  2007-03-23 05:50:28.996577\n",
       "2      China    1.99  2007-04-29 06:06:14.996577\n",
       "3      China    2.99  2007-04-10 15:42:53.996577\n",
       "4      China    5.99  2007-02-15 04:27:21.996577\n",
       "...      ...     ...                         ...\n",
       "2080   China    2.99  2007-03-22 22:31:27.996577\n",
       "2081  Mexico    3.99  2007-03-22 00:33:04.996577\n",
       "2082   China    1.99  2007-03-20 15:33:28.996577\n",
       "2083   China    4.99  2007-04-10 09:53:54.996577\n",
       "2084  Mexico    6.99  2007-03-17 03:24:42.996577\n",
       "\n",
       "[2085 rows x 3 columns]"
      ]
     },
     "execution_count": 3,
     "metadata": {},
     "output_type": "execute_result"
    }
   ],
   "source": [
    "c_df"
   ]
  },
  {
   "cell_type": "code",
   "execution_count": null,
   "id": "4105c368-6235-4e53-bb41-893ae2d7ad31",
   "metadata": {},
   "outputs": [],
   "source": []
  }
 ],
 "metadata": {
  "kernelspec": {
   "display_name": "Python 3 (ipykernel)",
   "language": "python",
   "name": "python3"
  },
  "language_info": {
   "codemirror_mode": {
    "name": "ipython",
    "version": 3
   },
   "file_extension": ".py",
   "mimetype": "text/x-python",
   "name": "python",
   "nbconvert_exporter": "python",
   "pygments_lexer": "ipython3",
   "version": "3.11.4"
  }
 },
 "nbformat": 4,
 "nbformat_minor": 5
}
