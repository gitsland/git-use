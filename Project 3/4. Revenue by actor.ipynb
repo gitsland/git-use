{
 "cells": [
  {
   "cell_type": "code",
   "execution_count": 11,
   "id": "78e6d704-5177-475d-8ff8-bb9e50dc5d21",
   "metadata": {},
   "outputs": [],
   "source": [
    "import pandas as pd\n",
    "import numpy as np\n",
    "import matplotlib.pyplot as plt"
   ]
  },
  {
   "cell_type": "code",
   "execution_count": 12,
   "id": "f5091cd0-0368-4fa0-9e79-58d4b0265907",
   "metadata": {},
   "outputs": [],
   "source": [
    "df = pd.read_csv('4. Revenue by actors.csv')"
   ]
  },
  {
   "cell_type": "code",
   "execution_count": 13,
   "id": "0bf16a95-5ea7-4860-914f-3a0734e7ee69",
   "metadata": {},
   "outputs": [
    {
     "data": {
      "text/html": [
       "<div>\n",
       "<style scoped>\n",
       "    .dataframe tbody tr th:only-of-type {\n",
       "        vertical-align: middle;\n",
       "    }\n",
       "\n",
       "    .dataframe tbody tr th {\n",
       "        vertical-align: top;\n",
       "    }\n",
       "\n",
       "    .dataframe thead th {\n",
       "        text-align: right;\n",
       "    }\n",
       "</style>\n",
       "<table border=\"1\" class=\"dataframe\">\n",
       "  <thead>\n",
       "    <tr style=\"text-align: right;\">\n",
       "      <th></th>\n",
       "      <th>film_id</th>\n",
       "      <th>actor_id</th>\n",
       "      <th>first_name</th>\n",
       "      <th>title</th>\n",
       "      <th>rental_rate</th>\n",
       "      <th>actor_count</th>\n",
       "      <th>rank</th>\n",
       "    </tr>\n",
       "  </thead>\n",
       "  <tbody>\n",
       "    <tr>\n",
       "      <th>0</th>\n",
       "      <td>933</td>\n",
       "      <td>40</td>\n",
       "      <td>Johnny</td>\n",
       "      <td>Vampire Whale</td>\n",
       "      <td>4.99</td>\n",
       "      <td>1</td>\n",
       "      <td>1</td>\n",
       "    </tr>\n",
       "    <tr>\n",
       "      <th>1</th>\n",
       "      <td>989</td>\n",
       "      <td>37</td>\n",
       "      <td>Val</td>\n",
       "      <td>Working Microcosmos</td>\n",
       "      <td>4.99</td>\n",
       "      <td>1</td>\n",
       "      <td>1</td>\n",
       "    </tr>\n",
       "    <tr>\n",
       "      <th>2</th>\n",
       "      <td>412</td>\n",
       "      <td>193</td>\n",
       "      <td>Burt</td>\n",
       "      <td>Heavyweights Beast</td>\n",
       "      <td>4.99</td>\n",
       "      <td>1</td>\n",
       "      <td>1</td>\n",
       "    </tr>\n",
       "    <tr>\n",
       "      <th>3</th>\n",
       "      <td>144</td>\n",
       "      <td>180</td>\n",
       "      <td>Jeff</td>\n",
       "      <td>Chinatown Gladiator</td>\n",
       "      <td>4.99</td>\n",
       "      <td>1</td>\n",
       "      <td>1</td>\n",
       "    </tr>\n",
       "    <tr>\n",
       "      <th>4</th>\n",
       "      <td>853</td>\n",
       "      <td>189</td>\n",
       "      <td>Cuba</td>\n",
       "      <td>Stranger Strangers</td>\n",
       "      <td>4.99</td>\n",
       "      <td>1</td>\n",
       "      <td>1</td>\n",
       "    </tr>\n",
       "    <tr>\n",
       "      <th>...</th>\n",
       "      <td>...</td>\n",
       "      <td>...</td>\n",
       "      <td>...</td>\n",
       "      <td>...</td>\n",
       "      <td>...</td>\n",
       "      <td>...</td>\n",
       "      <td>...</td>\n",
       "    </tr>\n",
       "    <tr>\n",
       "      <th>5457</th>\n",
       "      <td>728</td>\n",
       "      <td>12</td>\n",
       "      <td>Karl</td>\n",
       "      <td>Reunion Witches</td>\n",
       "      <td>0.99</td>\n",
       "      <td>1</td>\n",
       "      <td>3603</td>\n",
       "    </tr>\n",
       "    <tr>\n",
       "      <th>5458</th>\n",
       "      <td>281</td>\n",
       "      <td>11</td>\n",
       "      <td>Zero</td>\n",
       "      <td>Encino Elf</td>\n",
       "      <td>0.99</td>\n",
       "      <td>1</td>\n",
       "      <td>3603</td>\n",
       "    </tr>\n",
       "    <tr>\n",
       "      <th>5459</th>\n",
       "      <td>517</td>\n",
       "      <td>178</td>\n",
       "      <td>Lisa</td>\n",
       "      <td>Lesson Cleopatra</td>\n",
       "      <td>0.99</td>\n",
       "      <td>1</td>\n",
       "      <td>3603</td>\n",
       "    </tr>\n",
       "    <tr>\n",
       "      <th>5460</th>\n",
       "      <td>646</td>\n",
       "      <td>156</td>\n",
       "      <td>Fay</td>\n",
       "      <td>Outbreak Divine</td>\n",
       "      <td>0.99</td>\n",
       "      <td>1</td>\n",
       "      <td>3603</td>\n",
       "    </tr>\n",
       "    <tr>\n",
       "      <th>5461</th>\n",
       "      <td>981</td>\n",
       "      <td>67</td>\n",
       "      <td>Jessica</td>\n",
       "      <td>Wolves Desire</td>\n",
       "      <td>0.99</td>\n",
       "      <td>1</td>\n",
       "      <td>3603</td>\n",
       "    </tr>\n",
       "  </tbody>\n",
       "</table>\n",
       "<p>5462 rows × 7 columns</p>\n",
       "</div>"
      ],
      "text/plain": [
       "      film_id  actor_id first_name                title  rental_rate  \\\n",
       "0         933        40     Johnny        Vampire Whale         4.99   \n",
       "1         989        37        Val  Working Microcosmos         4.99   \n",
       "2         412       193       Burt   Heavyweights Beast         4.99   \n",
       "3         144       180       Jeff  Chinatown Gladiator         4.99   \n",
       "4         853       189       Cuba   Stranger Strangers         4.99   \n",
       "...       ...       ...        ...                  ...          ...   \n",
       "5457      728        12       Karl      Reunion Witches         0.99   \n",
       "5458      281        11       Zero           Encino Elf         0.99   \n",
       "5459      517       178       Lisa     Lesson Cleopatra         0.99   \n",
       "5460      646       156        Fay      Outbreak Divine         0.99   \n",
       "5461      981        67    Jessica        Wolves Desire         0.99   \n",
       "\n",
       "      actor_count  rank  \n",
       "0               1     1  \n",
       "1               1     1  \n",
       "2               1     1  \n",
       "3               1     1  \n",
       "4               1     1  \n",
       "...           ...   ...  \n",
       "5457            1  3603  \n",
       "5458            1  3603  \n",
       "5459            1  3603  \n",
       "5460            1  3603  \n",
       "5461            1  3603  \n",
       "\n",
       "[5462 rows x 7 columns]"
      ]
     },
     "execution_count": 13,
     "metadata": {},
     "output_type": "execute_result"
    }
   ],
   "source": [
    "df"
   ]
  },
  {
   "cell_type": "code",
   "execution_count": 19,
   "id": "8a26a8f7-9a24-4ad4-b758-e0291fef424f",
   "metadata": {},
   "outputs": [
    {
     "data": {
      "text/plain": [
       "0       1\n",
       "1       1\n",
       "2       1\n",
       "3       1\n",
       "4       1\n",
       "       ..\n",
       "5457    1\n",
       "5458    1\n",
       "5459    1\n",
       "5460    1\n",
       "5461    1\n",
       "Name: rank, Length: 5462, dtype: int64"
      ]
     },
     "execution_count": 19,
     "metadata": {},
     "output_type": "execute_result"
    }
   ],
   "source": [
    "df[(df.columns)[6]]"
   ]
  },
  {
   "cell_type": "code",
   "execution_count": 28,
   "id": "ce85710d-8346-4c88-8923-725eb2d7e41a",
   "metadata": {},
   "outputs": [
    {
     "data": {
      "text/plain": [
       "0        Johnny\n",
       "1           Val\n",
       "2          Burt\n",
       "3          Jeff\n",
       "4          Cuba\n",
       "         ...   \n",
       "5457       Karl\n",
       "5458       Zero\n",
       "5459       Lisa\n",
       "5460        Fay\n",
       "5461    Jessica\n",
       "Name: first_name, Length: 5462, dtype: object"
      ]
     },
     "execution_count": 28,
     "metadata": {},
     "output_type": "execute_result"
    }
   ],
   "source": [
    "df['first_name']"
   ]
  },
  {
   "cell_type": "code",
   "execution_count": 30,
   "id": "7f46466a-d7e6-4d01-8c12-3200574e8784",
   "metadata": {},
   "outputs": [
    {
     "ename": "ValueError",
     "evalue": "The truth value of a Series is ambiguous. Use a.empty, a.bool(), a.item(), a.any() or a.all().",
     "output_type": "error",
     "traceback": [
      "\u001b[1;31m---------------------------------------------------------------------------\u001b[0m",
      "\u001b[1;31mValueError\u001b[0m                                Traceback (most recent call last)",
      "\u001b[1;32m~\\AppData\\Local\\Temp\\ipykernel_27680\\3020125998.py\u001b[0m in \u001b[0;36m?\u001b[1;34m()\u001b[0m\n\u001b[1;32m----> 1\u001b[1;33m \u001b[1;32mif\u001b[0m \u001b[0mdf\u001b[0m\u001b[1;33m[\u001b[0m\u001b[1;34m'rank'\u001b[0m\u001b[1;33m]\u001b[0m \u001b[1;33m>\u001b[0m \u001b[1;36m0\u001b[0m \u001b[1;32mand\u001b[0m \u001b[0mdf\u001b[0m\u001b[1;33m[\u001b[0m\u001b[1;34m'rank'\u001b[0m\u001b[1;33m]\u001b[0m \u001b[1;33m<=\u001b[0m \u001b[1;36m10\u001b[0m\u001b[1;33m:\u001b[0m\u001b[1;33m\u001b[0m\u001b[1;33m\u001b[0m\u001b[0m\n\u001b[0m\u001b[0;32m      2\u001b[0m  \u001b[0mdf\u001b[0m\u001b[1;33m[\u001b[0m\u001b[1;34m'first_name'\u001b[0m\u001b[1;33m]\u001b[0m\u001b[1;33m\u001b[0m\u001b[1;33m\u001b[0m\u001b[0m\n",
      "\u001b[1;32m~\\AppData\\Local\\Programs\\Python\\Python311\\Lib\\site-packages\\pandas\\core\\generic.py\u001b[0m in \u001b[0;36m?\u001b[1;34m(self)\u001b[0m\n\u001b[0;32m   1464\u001b[0m     \u001b[1;33m@\u001b[0m\u001b[0mfinal\u001b[0m\u001b[1;33m\u001b[0m\u001b[1;33m\u001b[0m\u001b[0m\n\u001b[0;32m   1465\u001b[0m     \u001b[1;32mdef\u001b[0m \u001b[0m__nonzero__\u001b[0m\u001b[1;33m(\u001b[0m\u001b[0mself\u001b[0m\u001b[1;33m)\u001b[0m \u001b[1;33m->\u001b[0m \u001b[0mNoReturn\u001b[0m\u001b[1;33m:\u001b[0m\u001b[1;33m\u001b[0m\u001b[1;33m\u001b[0m\u001b[0m\n\u001b[1;32m-> 1466\u001b[1;33m         raise ValueError(\n\u001b[0m\u001b[0;32m   1467\u001b[0m             \u001b[1;34mf\"The truth value of a {type(self).__name__} is ambiguous. \"\u001b[0m\u001b[1;33m\u001b[0m\u001b[1;33m\u001b[0m\u001b[0m\n\u001b[0;32m   1468\u001b[0m             \u001b[1;34m\"Use a.empty, a.bool(), a.item(), a.any() or a.all().\"\u001b[0m\u001b[1;33m\u001b[0m\u001b[1;33m\u001b[0m\u001b[0m\n\u001b[0;32m   1469\u001b[0m         )\n",
      "\u001b[1;31mValueError\u001b[0m: The truth value of a Series is ambiguous. Use a.empty, a.bool(), a.item(), a.any() or a.all()."
     ]
    }
   ],
   "source": [
    "if df['rank'] > 0 and df['rank'] <= 10:\n",
    " df['first_name']"
   ]
  },
  {
   "cell_type": "code",
   "execution_count": null,
   "id": "21a1c433-1bd9-4d57-8405-c2cb84dd137d",
   "metadata": {},
   "outputs": [],
   "source": []
  }
 ],
 "metadata": {
  "kernelspec": {
   "display_name": "Python 3 (ipykernel)",
   "language": "python",
   "name": "python3"
  },
  "language_info": {
   "codemirror_mode": {
    "name": "ipython",
    "version": 3
   },
   "file_extension": ".py",
   "mimetype": "text/x-python",
   "name": "python",
   "nbconvert_exporter": "python",
   "pygments_lexer": "ipython3",
   "version": "3.11.4"
  }
 },
 "nbformat": 4,
 "nbformat_minor": 5
}
